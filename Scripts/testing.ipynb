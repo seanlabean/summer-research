{
 "cells": [
  {
   "cell_type": "code",
   "execution_count": 13,
   "metadata": {},
   "outputs": [],
   "source": [
    "from amuse.lab import Particles, units\n",
    "from amuse.units import constants\n",
    "from interaction import tidal_ratio\n",
    "from interaction import bbh_hvgc\n",
    "\n",
    "import math\n",
    "\n",
    "import numpy as np\n",
    "f = np.genfromtxt('results1.txt', dtype = None)\n",
    "\n",
    "vel_list = []\n",
    "max_tide_list = []\n",
    "for i in f:\n",
    "    vel_list.append(i[0])\n",
    "    bbh_mass_ratio = i[1]\n",
    "    bbh_separation = i[2] | units.parsec\n",
    "    gc_closest_ratio = i[3]\n",
    "    phase = i[4]\n",
    "    \n",
    "    max_tide1, max_tide2 = tidal_ratio(gc_closest_ratio, bbh_mass_ratio, bbh_separation, phase)\n",
    "    if max_tide1 > max_tide2:\n",
    "        i[5] = max_tide1\n",
    "    else:\n",
    "        i[5] = max_tide2\n",
    "    max_tide_list.append(i[5])\n",
    "\n"
   ]
  },
  {
   "cell_type": "code",
   "execution_count": 24,
   "metadata": {},
   "outputs": [
    {
     "name": "stdout",
     "output_type": "stream",
     "text": [
      "[0.46716069630858986, 0.16008535888111627, 0.33663709211670223]\n"
     ]
    },
    {
     "data": {
      "image/png": "[encoded data removed]",
      "text/plain": [
       "<matplotlib.figure.Figure at 0x11bdc1ad0>"
      ]
     },
     "metadata": {},
     "output_type": "display_data"
    }
   ],
   "source": [
    "divided_list = []\n",
    "for v in enumerate(vel_list):\n",
    "    max_tide_list[v[0]]\n",
    "    ratio = max_tide_list[v[0]]/v[1]\n",
    "    divided_list.append(ratio)\n",
    "import matplotlib.pyplot as plt\n",
    "print divided_list  #want the number to be as small as possible.\n",
    "plt.figure()\n",
    "plt.plot(divided_list)\n",
    "plt.show()"
   ]
  },
  {
   "cell_type": "code",
   "execution_count": null,
   "metadata": {
    "collapsed": true
   },
   "outputs": [],
   "source": []
  }
 ],
 "metadata": {
  "kernelspec": {
   "display_name": "Python 2",
   "language": "python",
   "name": "python2"
  },
  "language_info": {
   "codemirror_mode": {
    "name": "ipython",
    "version": 2
   },
   "file_extension": ".py",
   "mimetype": "text/x-python",
   "name": "python",
   "nbconvert_exporter": "python",
   "pygments_lexer": "ipython2",
   "version": "2.7.13"
  }
 },
 "nbformat": 4,
 "nbformat_minor": 2
}
