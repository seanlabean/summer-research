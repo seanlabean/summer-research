{
 "cells": [
  {
   "cell_type": "code",
   "execution_count": 80,
   "metadata": {},
   "outputs": [],
   "source": [
    "from amuse.lab import Particles, units\n",
    "from amuse.units import constants\n",
    "from interaction import tidal_ratio\n",
    "from interaction import bbh_hvgc\n",
    "\n",
    "import math\n",
    "\n",
    "import numpy as np\n",
    "f = np.genfromtxt('./Text/results_script.txt', dtype = None)\n",
    "\n",
    "vel_list = []\n",
    "max_tide_list = []\n",
    "for i in f:\n",
    "    vel_list.append(i[0])\n",
    "    if i[5] > i[6]:\n",
    "        if i[5] < 1000000:\n",
    "            max_tide_list.append(i[5])\n",
    "        else:\n",
    "            max_tide_list.append(50000)\n",
    "    else:\n",
    "        if i[6] < 1000000:\n",
    "            max_tide_list.append(i[6])\n",
    "        else:\n",
    "            max_tide_list.append(50000)\n",
    "\n"
   ]
  },
  {
   "cell_type": "code",
   "execution_count": 81,
   "metadata": {},
   "outputs": [
    {
     "name": "stdout",
     "output_type": "stream",
     "text": [
      "145\n",
      "1048.58690311\n",
      "1.62393458418\n"
     ]
    },
    {
     "data": {
      "image/png": "[encoded data removed]",
      "text/plain": [
       "<matplotlib.figure.Figure at 0x11047bed0>"
      ]
     },
     "metadata": {},
     "output_type": "display_data"
    }
   ],
   "source": [
    "divided_list = []\n",
    "for v in enumerate(vel_list):\n",
    "    max_tide_list[v[0]]\n",
    "    ratio = v[1]/max_tide_list[v[0]]\n",
    "    divided_list.append(ratio)\n",
    "import matplotlib.pyplot as plt\n",
    "from heapq import nlargest\n",
    "largest = nlargest(5,divided_list)\n",
    "print divided_list.index(largest[0])\n",
    "print vel_list[131]\n",
    "print max(divided_list)  #want the number to be as small as possible.\n",
    "figure = plt.figure(figsize=(9,9))\n",
    "plt.rcParams.update({'font.size': 24})\n",
    "plot = figure.add_subplot(1,1,1)\n",
    "\n",
    "plt.plot(divided_list,'.')\n",
    "plt.show()"
   ]
  },
  {
   "cell_type": "code",
   "execution_count": 28,
   "metadata": {},
   "outputs": [
    {
     "name": "stdout",
     "output_type": "stream",
     "text": [
      "234.1 0.333\n"
     ]
    }
   ],
   "source": [
    "x = 234.05\n",
    "y = 0.3334\n",
    "string = '{:.1f} {:.3f}'.format(x,y)\n",
    "print string"
   ]
  },
  {
   "cell_type": "code",
   "execution_count": 57,
   "metadata": {
    "collapsed": true
   },
   "outputs": [],
   "source": [
    "from amuse.lab import *"
   ]
  },
  {
   "cell_type": "code",
   "execution_count": 64,
   "metadata": {},
   "outputs": [
    {
     "name": "stdout",
     "output_type": "stream",
     "text": [
      "Help on function new_plummer_model in module amuse.ic.plummer:\n",
      "\n",
      "new_plummer_model(number_of_particles, *list_arguments, **keyword_arguments)\n",
      "    Create a plummer sphere with the given number of particles. Returns\n",
      "    a set of stars with equal mass and positions and velocities distributed\n",
      "    to fit a plummer star distribution model. The model is centered around the\n",
      "    origin. Positions and velocities are optionally scaled such that the kinetic and\n",
      "    potential energies are 0.25 and -0.5 in nbody-units, respectively.\n",
      "    \n",
      "    :argument number_of_particles: Number of particles to include in the plummer sphere\n",
      "    :argument convert_nbody:  When given will convert the resulting set to SI units\n",
      "    :argument radius_cutoff: Cutoff value for the radius (defaults to 22.8042468)\n",
      "    :argument mass_cutoff: Mass percentage inside radius of 1\n",
      "    :argument do_scale: scale the result to exact nbody units (M=1, K=0.25, U=-0.5)\n",
      "\n"
     ]
    }
   ],
   "source": [
    "totalM = 1e7 | units.MSun\n",
    "radius = 6 | units.parsec\n",
    "conv = nbody_system.nbody_to_si(radius, totalM)\n",
    "\n",
    "pm = new_plummer_model(1000, convert_nbody=conv, do_scale=True)\n",
    "\n",
    "help(new_plummer_model)"
   ]
  },
  {
   "cell_type": "code",
   "execution_count": 79,
   "metadata": {},
   "outputs": [
    {
     "data": {
      "image/png": "[encoded data removed]",
      "text/plain": [
       "<matplotlib.figure.Figure at 0x1091bfa90>"
      ]
     },
     "metadata": {},
     "output_type": "display_data"
    }
   ],
   "source": [
    "plt.scatter(pm.x.value_in(units.parsec), pm.y.value_in(units.parsec))\n",
    "plt.show()"
   ]
  },
  {
   "cell_type": "code",
   "execution_count": 76,
   "metadata": {},
   "outputs": [
    {
     "name": "stdout",
     "output_type": "stream",
     "text": [
      "-3.56514555181e+46 m**2 * kg * s**-2\n"
     ]
    }
   ],
   "source": [
    "import numpy as np\n",
    "\n",
    "print pm.potential_energy() + pm.kinetic_energy()"
   ]
  },
  {
   "cell_type": "code",
   "execution_count": 78,
   "metadata": {},
   "outputs": [],
   "source": [
    "pm.position = pm.position + ([1000, 1000, 1000] | units.parsec)"
   ]
  },
  {
   "cell_type": "code",
   "execution_count": null,
   "metadata": {
    "collapsed": true
   },
   "outputs": [],
   "source": []
  }
 ],
 "metadata": {
  "kernelspec": {
   "display_name": "Python 2",
   "language": "python",
   "name": "python2"
  },
  "language_info": {
   "codemirror_mode": {
    "name": "ipython",
    "version": 2
   },
   "file_extension": ".py",
   "mimetype": "text/x-python",
   "name": "python",
   "nbconvert_exporter": "python",
   "pygments_lexer": "ipython2",
   "version": "2.7.13"
  }
 },
 "nbformat": 4,
 "nbformat_minor": 2
}
